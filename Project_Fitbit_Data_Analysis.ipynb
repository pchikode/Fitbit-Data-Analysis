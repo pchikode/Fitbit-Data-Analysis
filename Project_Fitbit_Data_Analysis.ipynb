{
  "nbformat": 4,
  "nbformat_minor": 0,
  "metadata": {
    "colab": {
      "provenance": [],
      "authorship_tag": "ABX9TyOl9vQH6xrpZKKnBuDfo9g4",
      "include_colab_link": true
    },
    "kernelspec": {
      "name": "python3",
      "display_name": "Python 3"
    },
    "language_info": {
      "name": "python"
    }
  },
  "cells": [
    {
      "cell_type": "markdown",
      "metadata": {
        "id": "view-in-github",
        "colab_type": "text"
      },
      "source": [
        "<a href=\"https://colab.research.google.com/github/pchikode/Fitbit-Data-Analysis/blob/main/Project_Fitbit_Data_Analysis.ipynb\" target=\"_parent\"><img src=\"https://colab.research.google.com/assets/colab-badge.svg\" alt=\"Open In Colab\"/></a>"
      ]
    },
    {
      "cell_type": "code",
      "execution_count": null,
      "metadata": {
        "id": "blPUluJOJfq-"
      },
      "outputs": [],
      "source": [
        "import matplotlib\n",
        "import pandas as pd\n",
        "import numpy as np\n",
        "import matplotlib.pyplot as plt # default library for making plots\n",
        "import seaborn as sns # for making prettier plots!\n",
        "import datetime\n",
        "import math"
      ]
    },
    {
      "cell_type": "code",
      "source": [
        "import warnings\n",
        "warnings.filterwarnings(\"ignore\")\n",
        "pd.set_option('display.max_columns', None) # to see all columns in the pd dataframe\n",
        "matplotlib.style.use('ggplot')\n",
        "plt.rcParams['figure.figsize'] = [12.0, 6.0]"
      ],
      "metadata": {
        "id": "S_3Y7U0dLkjg"
      },
      "execution_count": null,
      "outputs": []
    },
    {
      "cell_type": "code",
      "source": [
        "df=pd.read_csv('/content/Fitbit_database_main.csv')"
      ],
      "metadata": {
        "id": "w8ZA-XapLN-J"
      },
      "execution_count": null,
      "outputs": []
    },
    {
      "cell_type": "code",
      "source": [
        "data = pd.read_csv('/content/Fitbit_database_main.csv', converters= {'Date': pd.to_datetime})\n",
        "data.set_index(pd.to_datetime(data.Date),inplace=True)"
      ],
      "metadata": {
        "id": "iUMaXAH-Mbd9"
      },
      "execution_count": null,
      "outputs": []
    },
    {
      "cell_type": "code",
      "source": [
        "df.head()"
      ],
      "metadata": {
        "id": "TpSbN5xMLUhZ"
      },
      "execution_count": null,
      "outputs": []
    },
    {
      "cell_type": "code",
      "source": [
        "data.drop('Unnamed: 0', inplace=True, axis=1)"
      ],
      "metadata": {
        "id": "Y8qHJEsqMq_q"
      },
      "execution_count": null,
      "outputs": []
    },
    {
      "cell_type": "markdown",
      "source": [
        "## Building new columns and sanitising the data\n",
        "Firstly we will be removing the activity where there were no steps recorded. For sleep data, we will clear out rows where there was no \"Deep Sleep\" entries"
      ],
      "metadata": {
        "id": "vqLB6ur2MvGN"
      }
    },
    {
      "cell_type": "code",
      "source": [
        "dayCodes = ['', 'Monday', 'Tuesday', 'Wednesday', 'Thursday', 'Friday', 'Saturday', 'Sunday']\n",
        "minDayCodes = ['', 'Mon', 'Tue', 'Wed', 'Thu', 'Fri', 'Sat', 'Sun']\n",
        "\n",
        "days = {1: 'Mon', 2: 'Tue', 3: 'Wed', 4: 'Thu', 5: 'Fri', 6: 'Sat', 7: 'Sun'}\n",
        "\n",
        "def is_nan(x):\n",
        "    return (x is np.nan or x != x)\n",
        "\n",
        "def defineSleepBucket(row):\n",
        "    sleepEntry = row['Sleep Start time']\n",
        "    if not is_nan(sleepEntry):\n",
        "        sleepTimeO = datetime.datetime.strptime(sleepEntry, '%Y-%m-%dT%H:%M:%S.000').time()\n",
        "        if sleepTimeO.minute > 30:\n",
        "            return (sleepTimeO.hour + 1)\n",
        "        elif sleepTimeO.minute > 0:\n",
        "            return sleepTimeO.hour + 0.5\n",
        "    else:\n",
        "        return np.nan\n",
        "\n",
        "def defineAwakeBucket(row):\n",
        "    awakeEntry = row['Sleep End time']\n",
        "    if not is_nan(awakeEntry):\n",
        "        awakeEntryO = datetime.datetime.strptime(awakeEntry, '%Y-%m-%dT%H:%M:%S.000').time()\n",
        "        if awakeEntryO.minute > 30:\n",
        "            return (awakeEntryO.hour + 1)\n",
        "            #return '{}:{}'.format(str((awakeEntryO.hour + 1)), '00')\n",
        "        elif awakeEntryO.minute > 0:\n",
        "            return awakeEntryO.hour + 0.5\n",
        "            #return '{}:{}'.format(str(awakeEntryO.hour), ':30')\n",
        "    else:\n",
        "        return np.nan\n",
        "\n",
        "#remove all entries where there was no steps recorded. i.e no activity\n",
        "data = data[data['Steps'].notnull()]\n",
        "\n",
        "data['Day Label'] = data['Day of Week'].apply(lambda x: days[x])\n",
        "data['Active exercise'] = data['Minutes Very Active'] > 40\n",
        "\n",
        "#Build additional Sleep columns\n",
        "data['Sleep Bucket'] = data.apply(defineSleepBucket, axis=1)\n",
        "data['Awake Bucket'] = data.apply(defineAwakeBucket, axis=1)\n",
        "\n",
        "data['% Awake'] = 100 - (data['% Deep sleep'] + data['% REM sleep'] + data['% Light sleep'])\n",
        "data['% Restorative sleep'] = data['% Deep sleep'] + data['% REM sleep']\n",
        "data['Restorative sleep mins'] = data['Minutes Deep sleep'] + data['Minutes REM sleep']\n",
        "\n",
        "#remove all entries where there was no Deep sleep recorded\n",
        "sleepData = data[data['% Deep sleep'].notnull()]"
      ],
      "metadata": {
        "id": "GvgOZxQ2MuyJ"
      },
      "execution_count": null,
      "outputs": []
    },
    {
      "cell_type": "code",
      "source": [
        "data.describe()"
      ],
      "metadata": {
        "id": "AmqIsXmiOXlh"
      },
      "execution_count": null,
      "outputs": []
    },
    {
      "cell_type": "markdown",
      "source": [
        "Let's take a quick glance how does the numbers behave on weekdays vs weekends\n",
        "\n",
        "\n",
        "\n",
        "\n",
        "\n"
      ],
      "metadata": {
        "id": "02qRcNLTPqom"
      }
    },
    {
      "cell_type": "code",
      "source": [
        "dayTypeGroupedData = data.groupby('Is Weekday').mean(numeric_only=True)\n",
        "dayTypeGroupedData"
      ],
      "metadata": {
        "id": "0I7JGB0BPrPo"
      },
      "execution_count": null,
      "outputs": []
    },
    {
      "cell_type": "code",
      "source": [
        "dayGroupedData = data.groupby(['Day of Week']).mean(numeric_only=True)\n",
        "dayGroupedData"
      ],
      "metadata": {
        "id": "NJyUtILIPTLS"
      },
      "execution_count": null,
      "outputs": []
    },
    {
      "cell_type": "markdown",
      "source": [
        "# Utilities"
      ],
      "metadata": {
        "id": "VIRp1gFAP9RK"
      }
    },
    {
      "cell_type": "code",
      "source": [
        "def getDayLabel(dayNum):\n",
        "    return dayCodes[dayNum]\n",
        "\n",
        "def plot_heatmap(corrmat, correlationOf, title, darkTheme=False):\n",
        "    if darkTheme:\n",
        "        sns.set(style='darkgrid', palette='deep') # Using Seaborn for making heatmap\n",
        "        cmap=\"YlGnBu\"\n",
        "    else:\n",
        "        sns.set(style = \"white\")\n",
        "        cmap = sns.diverging_palette(220, 10, as_cmap=True)\n",
        "\n",
        "    # Generate a mask for the upper triangle\n",
        "    mask = np.zeros_like(corrmat, dtype=np.bool)\n",
        "    mask[np.triu_indices_from(mask)] = True\n",
        "\n",
        "    # Draw the heatmap with the mask and correct aspect ratio\n",
        "    plt.figure(figsize=(10, 10))\n",
        "    hm = sns.heatmap(corrmat, mask=mask, cbar=True, annot=True, square=True, fmt='.2f',\n",
        "                 annot_kws={'size': 10}, cmap=cmap)\n",
        "    hm.set_title(title)\n",
        "    plt.yticks(rotation=0)\n",
        "    plt.show()"
      ],
      "metadata": {
        "id": "oXnybdlSP-k8"
      },
      "execution_count": null,
      "outputs": []
    },
    {
      "cell_type": "markdown",
      "source": [
        "# Activity Analysis"
      ],
      "metadata": {
        "id": "672es2HZQFgb"
      }
    },
    {
      "cell_type": "code",
      "source": [
        "data[['Calories Burned', 'Steps', 'Minutes Sedentary', 'Minutes Fairly Active', 'Minutes Very Active', 'Cardio minutes', 'Fat Burn minutes', 'Active exercise', 'Resting Heart Rate']].describe().transpose()"
      ],
      "metadata": {
        "id": "Jopm3L-IQI86"
      },
      "execution_count": null,
      "outputs": []
    },
    {
      "cell_type": "code",
      "source": [
        "fig = plt.figure(figsize = (20,6))\n",
        "\n",
        "ax = plt.subplot(131)\n",
        "plt.bar(dayGroupedData.index, dayGroupedData['Steps'])\n",
        "plt.title('Day of Week vs. Steps', fontsize=15)\n",
        "plt.xlabel('Day of Week', fontsize=14)\n",
        "plt.ylabel('Steps', fontsize=14)\n",
        "ax.axhline(8000, color=\"orangered\", linestyle='--')\n",
        "ax.axhline(10000, color=\"orange\", linestyle='--')\n",
        "ax.set_xticklabels(minDayCodes)\n",
        "\n",
        "#############\n",
        "\n",
        "ax2 = fig.add_subplot(132)\n",
        "plt.bar(dayGroupedData.index, dayGroupedData['Calories Burned'], color='blueviolet')\n",
        "plt.title('Day of Week vs. Calories Burned', fontsize=15)\n",
        "plt.xlabel('Day of Week', fontsize=14)\n",
        "plt.ylabel('Calories Burned', fontsize=14)\n",
        "ax2.set_xticklabels(minDayCodes)\n",
        "\n",
        "#############\n",
        "\n",
        "ax3 = fig.add_subplot(133)\n",
        "ax3.set_xticklabels(minDayCodes)\n",
        "plt.bar(dayGroupedData.index, dayGroupedData['Minutes Very Active'], color='orange')\n",
        "plt.title('Day of Week vs. Minutes Very Active', fontsize=15)\n",
        "plt.xlabel('Day of Week', fontsize=14)\n",
        "plt.ylabel('Minutes Very Active', fontsize=14)"
      ],
      "metadata": {
        "id": "BvcWs2WoQR_Q"
      },
      "execution_count": null,
      "outputs": []
    },
    {
      "cell_type": "markdown",
      "source": [
        "Not fussing on the daily calorie burn, I had kept a goal of attaining 8000 steps count each day on my Fitbit device. The graphs below suggested I am averaging about ~7800 steps per day which is a quite close to my goal. There are some studies which suggest hitting 10000 steps per day is ideal and that shall be the next target.\n",
        "\n",
        "Tuesdays to Saturdays were the days where I averaged about 40 minutes of very active minutes - which simply translates to active exercise. Fewer minutes on Sundays were due to purely due to laziness/recovery time. The drop in active minutes on Mondays proves that I am falling for the Monday Blues and guess it's time to fix that 💪🏼"
      ],
      "metadata": {
        "id": "bhu2S_oJRBOj"
      }
    },
    {
      "cell_type": "markdown",
      "source": [
        "# 2. Sedentary minutes"
      ],
      "metadata": {
        "id": "_6sXqbvZRDRT"
      }
    },
    {
      "cell_type": "code",
      "source": [
        "plt.bar(dayGroupedData.index, dayGroupedData['Minutes Sedentary'], color='orange', tick_label=minDayCodes[1:])\n",
        "plt.title('\"Sedentary minutes\" per day')"
      ],
      "metadata": {
        "id": "GwCFuTvhRElz"
      },
      "execution_count": null,
      "outputs": []
    },
    {
      "cell_type": "markdown",
      "source": [
        "# Average heart rate / calorie burn rate per min / vs exercise type"
      ],
      "metadata": {
        "id": "RrkBXX99SQyS"
      }
    },
    {
      "cell_type": "markdown",
      "source": [
        "Analysing the amount of calories burned per minutes for various Activities shows some interesting findings. Though there is a lot of similar data available on internet, it is very difficult to generalise these numbers for everyone. Since, lot of this depends on the fitness levels, demographics, skillset and most importantly how much I enjoy doing some specific exercises."
      ],
      "metadata": {
        "id": "SEdXLXinSTac"
      }
    },
    {
      "cell_type": "code",
      "source": [
        "activityDf = pd.read_csv('/content/Fitbit_database_main_2.csv')\n",
        "activityDf['Cal/Min'] = activityDf['Calories burned']/activityDf['Time']\n",
        "groupedActivitiesDf = activityDf.groupby(['Activity Type']).mean(numeric_only=True)"
      ],
      "metadata": {
        "id": "7ymqrct-SUS5"
      },
      "execution_count": null,
      "outputs": []
    },
    {
      "cell_type": "code",
      "source": [
        "#Plot Data\n",
        "plt.barh(groupedActivitiesDf.index, groupedActivitiesDf['Cal/Min'], color='seagreen')\n",
        "plt.title('Calories burned per minutes for various Activities')\n",
        "plt.xlabel('Cal/Min')\n",
        "plt.plot()\n",
        "\n",
        "groupedActivitiesDf"
      ],
      "metadata": {
        "id": "u3fan4NYSmWQ"
      },
      "execution_count": null,
      "outputs": []
    },
    {
      "cell_type": "markdown",
      "source": [
        "It is interesting to see that running helps me burn almost 12 calories per minute. The maths is simple, to compensate for a beer, a 10 minutes runs is what I need. 🏃🏻‍+ 🕑 = 🍺\n",
        "\n",
        "Tennis 🎾 - the favourite activity from the lot - takes the second spot. That's again a win-win scenario! It will be interesting to see if this number changes as I improve my skills.\n",
        "\n",
        "Swimming numbers were not shocking to me because I am still struggling to keep up with my continuous lap count. And after spending some time in pool, the exercise turns to a leisure activity.\n",
        "\n",
        "Point to note here is that calories burned should not be the only metric on which these activities can be graded. But, this happens to be the only metric which I can currently measure via Fitbit."
      ],
      "metadata": {
        "id": "MIPZf_tbTOPG"
      }
    },
    {
      "cell_type": "markdown",
      "source": [
        "# 3. Calorie burn coorelation"
      ],
      "metadata": {
        "id": "poV8o40dTdDb"
      }
    },
    {
      "cell_type": "code",
      "source": [
        "correlationOf = 'Calories Burned'\n",
        "corrdf_calories = data[['Calories Burned','Steps', 'Is Weekday', 'Minutes Sedentary', 'Minutes Fairly Active', 'Minutes Very Active', 'Cardio minutes', 'Fat Burn minutes']]\n",
        "plot_heatmap(corrdf_calories.corr(), correlationOf, '')"
      ],
      "metadata": {
        "id": "B9fm9bUeTfFz"
      },
      "execution_count": null,
      "outputs": []
    },
    {
      "cell_type": "code",
      "source": [
        "# Basic correlogram\n",
        "sns.pairplot(corrdf_calories.dropna(), kind=\"scatter\", markers=\"+\", plot_kws=dict(s=50, edgecolor=\"b\", linewidth=1))\n",
        "plt.show()"
      ],
      "metadata": {
        "id": "4kHhzDi9Trl7"
      },
      "execution_count": null,
      "outputs": []
    },
    {
      "cell_type": "markdown",
      "source": [
        "The calories burned is strongly related to amount of steps and active minutes. Minutes sedentary has a negative correlation with Weekdays which implies that I spend more time slacking off on weekends."
      ],
      "metadata": {
        "id": "PzdL8shwUoE8"
      }
    },
    {
      "cell_type": "markdown",
      "source": [
        "# Sleep Analysis"
      ],
      "metadata": {
        "id": "SdTOpvQ9Uo2r"
      }
    },
    {
      "cell_type": "markdown",
      "source": [
        "Sleep is essential to helping maintain mood, memory, and cognitive performance and there is no running from it. We spend about a third of our life in sleeping. That's a staggering 26 years spent sleeping in bed! While metabolism generally slows down, all major organs and regulatory systems continue to function. Hence, it becomes important to get the most out of our sleep.\n",
        "\n",
        "Reading more on this, I found that there are some standard ways which can help achieve a good night sleep.\n",
        "* Following a good sleep schedule\n",
        "* Avoid bright/blue light at night before hitting the bed\n",
        "* Avoid caffeine later in the day\n",
        "* Sleep in a cool and dark room\n",
        "* Getting at-least 7–9 hours of sleep. There are some studies which say that even in 5 hours you can achieve the most out of your sleep.\n",
        "\n",
        "Over the course of this experiment, I tried to follow the above steps to bind myself to a strict sleep schedule. It was time to validate them."
      ],
      "metadata": {
        "id": "7EQ2i9-lUuFT"
      }
    },
    {
      "cell_type": "markdown",
      "source": [
        "## 1. How regular is my sleeping habits?\n",
        "\n",
        " - Am I getting the required hours of sleep? - Average sleep hours and the deviation\n",
        " - Am I following a good sleep schedule? - Average sleep and wake up timings"
      ],
      "metadata": {
        "id": "M-cFnKfIUu0c"
      }
    },
    {
      "cell_type": "code",
      "source": [
        "import matplotlib.dates as mdates\n",
        "\n",
        "sleepDesc = pd.DataFrame(sleepData['Time in bed']/60).describe().transpose()\n",
        "avgSleepHours = round(sleepDesc.at['Time in bed','mean'],2)\n",
        "summary = 'Averaging a sleep of {} hours with a deviation of {} hours'.format(avgSleepHours, round(sleepDesc.at['Time in bed','std'],2))\n",
        "hoursInBed = sleepData['Time in bed']/60\n",
        "\n",
        "fig = plt.figure(figsize = (20,6))\n",
        "\n",
        "ax = plt.subplot(121)\n",
        "plt.hist(hoursInBed, bins = 8, range = (3, 10), color=\"navy\")\n",
        "plt.xlim(3, 10)\n",
        "plt.xticks(range(3, 10))\n",
        "plt.xlabel('Hours in Bed')\n",
        "plt.ylabel('Count');\n",
        "plt.title(summary, fontsize=15)\n",
        "\n",
        "#############\n",
        "\n",
        "ax2 = fig.add_subplot(122)\n",
        "plt.plot(sleepData['Date'],hoursInBed, linestyle='-',\n",
        "         markersize=10, color='darkturquoise', label='% Light', linewidth=3.0, alpha=0.9)\n",
        "plt.ylabel('Time in bed', fontsize=14)\n",
        "ax2.axhline(avgSleepHours, color=\"orangered\", linestyle='--')\n",
        "ax2.xaxis.set_major_locator(mdates.WeekdayLocator(byweekday=6))\n",
        "ax2.xaxis.set_major_formatter(mdates.DateFormatter('%D'))\n",
        "ax2.grid(True)\n",
        "plt.xticks(rotation=75)\n",
        "plt.plot()\n",
        "\n",
        "sleepDesc"
      ],
      "metadata": {
        "id": "oggQrnwQUyMG"
      },
      "execution_count": null,
      "outputs": []
    },
    {
      "cell_type": "markdown",
      "source": [
        "\n",
        "\n",
        "```\n",
        "# This is formatted as code\n",
        "```\n",
        "\n",
        "As far as behavioral data goes, this is reasonably well-behaved. Notice that this distribution doesn't vary much and is quite steep. The deviation is of less than an hour.\n",
        "\n",
        "On the other note, according to [National Sleep Foundation](https://www.sleepfoundation.org/how-sleep-works/how-much-sleep-do-we-really-need/page/0/2) I should be getting sleep between 7-9 hours. Looks like barely scratching the mark here! 😅"
      ],
      "metadata": {
        "id": "-Za26j4vU4wt"
      }
    },
    {
      "cell_type": "code",
      "source": [
        "sleepBDF = sleepData[['Sleep Bucket', 'Awake Bucket', 'Time in bed']]\n",
        "sleepBDF['Time in bed'] = sleepBDF['Time in bed']/60\n",
        "\n",
        "## plot the sleep and awake counts\n",
        "fig = plt.figure(figsize = (20,6))\n",
        "\n",
        "ax = plt.subplot(121)\n",
        "pd.value_counts(sleepData['Sleep Bucket']).plot.bar(cmap=\"BuPu_r\", alpha=0.8)\n",
        "plt.xlabel('Time of sleep', fontsize=14)\n",
        "plt.ylabel('Counts', fontsize=14)\n",
        "plt.xticks(rotation=0)\n",
        "\n",
        "#############\n",
        "\n",
        "ax2 = fig.add_subplot(122)\n",
        "pd.value_counts(sleepData['Awake Bucket']).plot.bar(cmap=\"plasma\", alpha=0.5)\n",
        "plt.xlabel('Time to wake up', fontsize=14)\n",
        "plt.ylabel('Counts', fontsize=14)\n",
        "plt.xticks(rotation=0)\n",
        "plt.show()"
      ],
      "metadata": {
        "id": "M1D-d7ZlU5Yd"
      },
      "execution_count": null,
      "outputs": []
    },
    {
      "cell_type": "markdown",
      "source": [
        "# 2. Types of sleep"
      ],
      "metadata": {
        "id": "WXF527HIU-2w"
      }
    },
    {
      "cell_type": "code",
      "source": [
        "avgSleep = sleepData[['Minutes Light sleep', 'Minutes Deep sleep', 'Minutes REM sleep', 'Minutes Awake']].mean()\n",
        "\n",
        "fig = plt.figure(figsize = (6,6))\n",
        "labels=['Light sleep', 'Deep sleep', 'REM sleep', 'Awake']\n",
        "plt.pie(avgSleep, colors = ['darkturquoise', 'salmon', 'lightskyblue', 'yellowgreen'], autopct='%1.1f%%', labels=labels, textprops=dict(color=\"w\"))\n",
        "\n",
        "plt.title('Average of types of sleep', fontsize=14)\n",
        "plt.legend()\n",
        "plt.show()"
      ],
      "metadata": {
        "id": "9Mm3AmSJU_9P"
      },
      "execution_count": null,
      "outputs": []
    },
    {
      "cell_type": "markdown",
      "source": [
        "The plot below shows that on an average, my body spends just about 17% in Deep sleep, 19% REM and rest in either light or being slightly awake."
      ],
      "metadata": {
        "id": "BghaxZB4VHUV"
      }
    },
    {
      "cell_type": "markdown",
      "source": [
        "# 3. Correlation between amount of sleep and the sleep stages.\n",
        "Do sleeping more will help me attain more deep or REM sleep?"
      ],
      "metadata": {
        "id": "H_zyOjluVJHF"
      }
    },
    {
      "cell_type": "code",
      "source": [
        "corrdf_sleep_types = sleepData[['Time in bed', 'Minutes Deep sleep', 'Minutes REM sleep', 'Minutes Light sleep', 'Minutes Awake']].corr().abs()\n",
        "plot_heatmap(corrdf_sleep_types, correlationOf, 'Coorelation of Time in bed with other sleep stages')\n",
        "corrdf_sleep_types"
      ],
      "metadata": {
        "id": "EMtftT1tVKwx"
      },
      "execution_count": null,
      "outputs": []
    },
    {
      "cell_type": "markdown",
      "source": [
        "Notice that the \"Deep sleep minutes\" are not very coorelated with the time in bed. Which shows that sleepinng more doesn't necessarily guarantee a good deep sleep."
      ],
      "metadata": {
        "id": "gPbeW8Bye7TH"
      }
    },
    {
      "cell_type": "markdown",
      "source": [
        "# 4. Types of Sleep based on different days"
      ],
      "metadata": {
        "id": "0h1d1fx2e9tJ"
      }
    },
    {
      "cell_type": "code",
      "source": [
        "fig = plt.figure(figsize = (14,5))\n",
        "plt.bar((dayGroupedData.index), dayGroupedData['Minutes Light sleep'],width = 0.4, color='lightskyblue', label=\"Minutes Light sleep\", tick_label=minDayCodes[1:])\n",
        "plt.bar((dayGroupedData.index + 0.1), dayGroupedData['Minutes REM sleep'], width = 0.4, color='dodgerblue', label=\"Minutes REM sleep\")\n",
        "plt.bar((dayGroupedData.index + 0.2), dayGroupedData['Minutes Deep sleep'], width = 0.4, color='slateblue', label=\"Minutes Deep sleep\")\n",
        "plt.xlabel('Day of Week')\n",
        "plt.ylabel('Sleep stages')\n",
        "plt.legend()"
      ],
      "metadata": {
        "id": "xOhVDxRFe8Kz"
      },
      "execution_count": null,
      "outputs": []
    },
    {
      "cell_type": "markdown",
      "source": [
        "Let's now look at the different days of the week. Did I sleep more on weekends? (I certainly hope so.)"
      ],
      "metadata": {
        "id": "FSLHRtC5fDas"
      }
    },
    {
      "cell_type": "markdown",
      "source": [
        "# 5. Effect of Sleep on Weekdays 💼 vs Weekends 🎪"
      ],
      "metadata": {
        "id": "5HTn_EV6fFMN"
      }
    },
    {
      "cell_type": "code",
      "source": [
        "ax = sleepData.boxplot(column = 'Time in bed', by = 'Day of Week')\n",
        "ax.set_xticklabels(minDayCodes[1:])\n",
        "plt.ylabel('Minutes in Bed')\n",
        "plt.suptitle('')\n",
        "plt.title('');"
      ],
      "metadata": {
        "id": "glCfR-uIfHEV"
      },
      "execution_count": null,
      "outputs": []
    },
    {
      "cell_type": "markdown",
      "source": [
        "This is pretty interesting. The rest of the days are straighforward with lesser deviations but from the looks of it, I have exploited saturday night sleep for sure!"
      ],
      "metadata": {
        "id": "xka-CnhPfZTX"
      }
    },
    {
      "cell_type": "markdown",
      "source": [
        "# Coorelation of sleep with other activity numbers"
      ],
      "metadata": {
        "id": "JqFMOA_ifath"
      }
    },
    {
      "cell_type": "code",
      "source": [
        "sleepData['8 > Sleep > 7'] = sleepData['Time in bed'] > 7*60\n",
        "sleepData['Sleep > 7'] = sleepData['Time in bed'] > 7*60\n",
        "sleepData['Sleep > 8'] = sleepData['Time in bed'] > 8*60\n",
        "sleepData['Active mins > 50'] = sleepData['Minutes Very Active'] > 50\n",
        "sleepData['Active mins > 60'] = sleepData['Minutes Very Active'] > 60\n",
        "\n",
        "sleepData['wee'] = np.logical_and(sleepData['Sleep Bucket'] <= 23, sleepData['Awake Bucket'] <= 6.5)"
      ],
      "metadata": {
        "id": "WJxofy2vfc1I"
      },
      "execution_count": null,
      "outputs": []
    },
    {
      "cell_type": "code",
      "source": [
        "correlationOf=\"Minutes Deep sleep\"\n",
        "k = 15 #number of variables for heatmap\n",
        "corrmat = sleepData[['Minutes Deep sleep', 'Minutes Very Active', 'Minutes Fairly Active', 'Minutes Lightly Active', 'Minutes Sedentary', 'Calories Burned', 'Steps',\n",
        "          'Cardio minutes', 'Fat Burn minutes', 'Peak minutes',\n",
        "          '8 > Sleep > 7', 'wee', 'Sleep > 8', 'Active mins > 60', 'Is Weekday']].corr()"
      ],
      "metadata": {
        "id": "sfB1Revufehn"
      },
      "execution_count": null,
      "outputs": []
    },
    {
      "cell_type": "code",
      "source": [
        "plot_heatmap(corrmat, correlationOf, 'Coorelation of {} with others'.format(correlationOf), darkTheme=False)"
      ],
      "metadata": {
        "id": "zlBTDshdfgBA"
      },
      "execution_count": null,
      "outputs": []
    },
    {
      "cell_type": "markdown",
      "source": [
        "## Correlation Matrix Insights\n",
        "\n",
        "**Observations:**\n",
        "- I found a moderate positive correlation (~0.51) between *Minutes Deep Sleep* and *Minutes Fairly Active* 🚶‍♂️, suggesting that moderate activity boosts my deep sleep.\n",
        "- A notable positive relationship (~0.41) exists between *Deep Sleep* and *Cardio Minutes* 🚴‍♀️, indicating that regular cardio enhances my sleep quality.\n",
        "- There is a negative correlation with *Is Weekday* 🎉, meaning I tend to sleep deeper on weekends.\n",
        "- Lighter activities like *Steps* and *Lightly Active Minutes* show small positive effects on my deep sleep 👣.\n",
        "- *Calories Burned* and *Peak Minutes* have weak correlations 🔍, suggesting they are less influential on sleep quality.\n",
        "\n",
        "**Actionable Insights:**\n",
        "1. **Increase Moderate Activity:**  \n",
        "   I will keep a steady schedule of brisk walks and light runs 🚶‍♂️ to enhance my deep sleep.\n",
        "\n",
        "2. **Enhance Cardio Workouts:**  \n",
        "   I plan to include regular cardio sessions 🚴‍♀️ to further improve my sleep quality.\n",
        "\n",
        "3. **Prioritize Weekend Rest:**  \n",
        "   I will use weekends to focus on rest and recovery 🛌 for better sleep.\n",
        "\n",
        "4. **Stay Consistently Active:**  \n",
        "   I will continue monitoring my step count and light activities 👣 to maintain overall health.\n"
      ],
      "metadata": {
        "id": "qIdDwUkdfixi"
      }
    }
  ]
}